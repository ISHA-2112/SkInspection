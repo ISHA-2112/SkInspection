{
  "nbformat": 4,
  "nbformat_minor": 0,
  "metadata": {
    "colab": {
      "provenance": []
    },
    "kernelspec": {
      "name": "python3",
      "display_name": "Python 3"
    },
    "language_info": {
      "name": "python"
    }
  },
  "cells": [
    {
      "cell_type": "code",
      "execution_count": null,
      "metadata": {
        "id": "agFnPGRHjTYK"
      },
      "outputs": [],
      "source": [
        "import pandas as pd\n",
        "import numpy as np\n",
        "import warnings\n",
        "warnings.filterwarnings('ignore')"
      ]
    },
    {
      "cell_type": "code",
      "source": [
        "from google.colab import drive\n",
        "drive.mount('/content/drive')"
      ],
      "metadata": {
        "colab": {
          "base_uri": "https://localhost:8080/"
        },
        "id": "CTcQEpLmjqT5",
        "outputId": "3571d40a-f64a-433e-bc70-daab85fee34a"
      },
      "execution_count": null,
      "outputs": [
        {
          "output_type": "stream",
          "name": "stdout",
          "text": [
            "Mounted at /content/drive\n"
          ]
        }
      ]
    },
    {
      "cell_type": "code",
      "source": [
        "df = pd.read_csv('/content/drive/MyDrive/check_aug28.csv')"
      ],
      "metadata": {
        "id": "kLaeJdJ5kN2C"
      },
      "execution_count": null,
      "outputs": []
    },
    {
      "cell_type": "code",
      "source": [
        "df.tail()"
      ],
      "metadata": {
        "colab": {
          "base_uri": "https://localhost:8080/",
          "height": 235
        },
        "id": "ua4029tlkUea",
        "outputId": "f6b6400a-06d6-4254-8ad9-9e1b080eae4a"
      },
      "execution_count": null,
      "outputs": [
        {
          "output_type": "execute_result",
          "data": {
            "text/plain": [
              "         0    1    2    3    4    5    6    7    8    9  ...  2343  2344  \\\n",
              "31748   43   33   47  112   93  112  153  134  152  164  ...   133   113   \n",
              "31749   86  118  214   78  115  213   89  124  222   81  ...   101   110   \n",
              "31750  109  109  179  117  116  184  134  125  188  149  ...   140   126   \n",
              "31751  145   88  208  143   86  205  144   81  206  133  ...   121    69   \n",
              "31752  143  128  189  144  121  194  155  136  198  125  ...   144   143   \n",
              "\n",
              "       2345  2346  2347  2348  2349  2350  2351  label  \n",
              "31748   139    99    77   106    47    29    50      6  \n",
              "31749   228    94   102   221    87    98   216      3  \n",
              "31750   184   142   128   186   134   122   182      0  \n",
              "31751   188   148    98   206   125    74   188      3  \n",
              "31752   160   171   161   177   169   157   175      1  \n",
              "\n",
              "[5 rows x 2353 columns]"
            ],
            "text/html": [
              "\n",
              "  <div id=\"df-621f92ff-f2f7-4c84-a609-01f2809f333e\">\n",
              "    <div class=\"colab-df-container\">\n",
              "      <div>\n",
              "<style scoped>\n",
              "    .dataframe tbody tr th:only-of-type {\n",
              "        vertical-align: middle;\n",
              "    }\n",
              "\n",
              "    .dataframe tbody tr th {\n",
              "        vertical-align: top;\n",
              "    }\n",
              "\n",
              "    .dataframe thead th {\n",
              "        text-align: right;\n",
              "    }\n",
              "</style>\n",
              "<table border=\"1\" class=\"dataframe\">\n",
              "  <thead>\n",
              "    <tr style=\"text-align: right;\">\n",
              "      <th></th>\n",
              "      <th>0</th>\n",
              "      <th>1</th>\n",
              "      <th>2</th>\n",
              "      <th>3</th>\n",
              "      <th>4</th>\n",
              "      <th>5</th>\n",
              "      <th>6</th>\n",
              "      <th>7</th>\n",
              "      <th>8</th>\n",
              "      <th>9</th>\n",
              "      <th>...</th>\n",
              "      <th>2343</th>\n",
              "      <th>2344</th>\n",
              "      <th>2345</th>\n",
              "      <th>2346</th>\n",
              "      <th>2347</th>\n",
              "      <th>2348</th>\n",
              "      <th>2349</th>\n",
              "      <th>2350</th>\n",
              "      <th>2351</th>\n",
              "      <th>label</th>\n",
              "    </tr>\n",
              "  </thead>\n",
              "  <tbody>\n",
              "    <tr>\n",
              "      <th>31748</th>\n",
              "      <td>43</td>\n",
              "      <td>33</td>\n",
              "      <td>47</td>\n",
              "      <td>112</td>\n",
              "      <td>93</td>\n",
              "      <td>112</td>\n",
              "      <td>153</td>\n",
              "      <td>134</td>\n",
              "      <td>152</td>\n",
              "      <td>164</td>\n",
              "      <td>...</td>\n",
              "      <td>133</td>\n",
              "      <td>113</td>\n",
              "      <td>139</td>\n",
              "      <td>99</td>\n",
              "      <td>77</td>\n",
              "      <td>106</td>\n",
              "      <td>47</td>\n",
              "      <td>29</td>\n",
              "      <td>50</td>\n",
              "      <td>6</td>\n",
              "    </tr>\n",
              "    <tr>\n",
              "      <th>31749</th>\n",
              "      <td>86</td>\n",
              "      <td>118</td>\n",
              "      <td>214</td>\n",
              "      <td>78</td>\n",
              "      <td>115</td>\n",
              "      <td>213</td>\n",
              "      <td>89</td>\n",
              "      <td>124</td>\n",
              "      <td>222</td>\n",
              "      <td>81</td>\n",
              "      <td>...</td>\n",
              "      <td>101</td>\n",
              "      <td>110</td>\n",
              "      <td>228</td>\n",
              "      <td>94</td>\n",
              "      <td>102</td>\n",
              "      <td>221</td>\n",
              "      <td>87</td>\n",
              "      <td>98</td>\n",
              "      <td>216</td>\n",
              "      <td>3</td>\n",
              "    </tr>\n",
              "    <tr>\n",
              "      <th>31750</th>\n",
              "      <td>109</td>\n",
              "      <td>109</td>\n",
              "      <td>179</td>\n",
              "      <td>117</td>\n",
              "      <td>116</td>\n",
              "      <td>184</td>\n",
              "      <td>134</td>\n",
              "      <td>125</td>\n",
              "      <td>188</td>\n",
              "      <td>149</td>\n",
              "      <td>...</td>\n",
              "      <td>140</td>\n",
              "      <td>126</td>\n",
              "      <td>184</td>\n",
              "      <td>142</td>\n",
              "      <td>128</td>\n",
              "      <td>186</td>\n",
              "      <td>134</td>\n",
              "      <td>122</td>\n",
              "      <td>182</td>\n",
              "      <td>0</td>\n",
              "    </tr>\n",
              "    <tr>\n",
              "      <th>31751</th>\n",
              "      <td>145</td>\n",
              "      <td>88</td>\n",
              "      <td>208</td>\n",
              "      <td>143</td>\n",
              "      <td>86</td>\n",
              "      <td>205</td>\n",
              "      <td>144</td>\n",
              "      <td>81</td>\n",
              "      <td>206</td>\n",
              "      <td>133</td>\n",
              "      <td>...</td>\n",
              "      <td>121</td>\n",
              "      <td>69</td>\n",
              "      <td>188</td>\n",
              "      <td>148</td>\n",
              "      <td>98</td>\n",
              "      <td>206</td>\n",
              "      <td>125</td>\n",
              "      <td>74</td>\n",
              "      <td>188</td>\n",
              "      <td>3</td>\n",
              "    </tr>\n",
              "    <tr>\n",
              "      <th>31752</th>\n",
              "      <td>143</td>\n",
              "      <td>128</td>\n",
              "      <td>189</td>\n",
              "      <td>144</td>\n",
              "      <td>121</td>\n",
              "      <td>194</td>\n",
              "      <td>155</td>\n",
              "      <td>136</td>\n",
              "      <td>198</td>\n",
              "      <td>125</td>\n",
              "      <td>...</td>\n",
              "      <td>144</td>\n",
              "      <td>143</td>\n",
              "      <td>160</td>\n",
              "      <td>171</td>\n",
              "      <td>161</td>\n",
              "      <td>177</td>\n",
              "      <td>169</td>\n",
              "      <td>157</td>\n",
              "      <td>175</td>\n",
              "      <td>1</td>\n",
              "    </tr>\n",
              "  </tbody>\n",
              "</table>\n",
              "<p>5 rows × 2353 columns</p>\n",
              "</div>\n",
              "      <button class=\"colab-df-convert\" onclick=\"convertToInteractive('df-621f92ff-f2f7-4c84-a609-01f2809f333e')\"\n",
              "              title=\"Convert this dataframe to an interactive table.\"\n",
              "              style=\"display:none;\">\n",
              "        \n",
              "  <svg xmlns=\"http://www.w3.org/2000/svg\" height=\"24px\"viewBox=\"0 0 24 24\"\n",
              "       width=\"24px\">\n",
              "    <path d=\"M0 0h24v24H0V0z\" fill=\"none\"/>\n",
              "    <path d=\"M18.56 5.44l.94 2.06.94-2.06 2.06-.94-2.06-.94-.94-2.06-.94 2.06-2.06.94zm-11 1L8.5 8.5l.94-2.06 2.06-.94-2.06-.94L8.5 2.5l-.94 2.06-2.06.94zm10 10l.94 2.06.94-2.06 2.06-.94-2.06-.94-.94-2.06-.94 2.06-2.06.94z\"/><path d=\"M17.41 7.96l-1.37-1.37c-.4-.4-.92-.59-1.43-.59-.52 0-1.04.2-1.43.59L10.3 9.45l-7.72 7.72c-.78.78-.78 2.05 0 2.83L4 21.41c.39.39.9.59 1.41.59.51 0 1.02-.2 1.41-.59l7.78-7.78 2.81-2.81c.8-.78.8-2.07 0-2.86zM5.41 20L4 18.59l7.72-7.72 1.47 1.35L5.41 20z\"/>\n",
              "  </svg>\n",
              "      </button>\n",
              "      \n",
              "  <style>\n",
              "    .colab-df-container {\n",
              "      display:flex;\n",
              "      flex-wrap:wrap;\n",
              "      gap: 12px;\n",
              "    }\n",
              "\n",
              "    .colab-df-convert {\n",
              "      background-color: #E8F0FE;\n",
              "      border: none;\n",
              "      border-radius: 50%;\n",
              "      cursor: pointer;\n",
              "      display: none;\n",
              "      fill: #1967D2;\n",
              "      height: 32px;\n",
              "      padding: 0 0 0 0;\n",
              "      width: 32px;\n",
              "    }\n",
              "\n",
              "    .colab-df-convert:hover {\n",
              "      background-color: #E2EBFA;\n",
              "      box-shadow: 0px 1px 2px rgba(60, 64, 67, 0.3), 0px 1px 3px 1px rgba(60, 64, 67, 0.15);\n",
              "      fill: #174EA6;\n",
              "    }\n",
              "\n",
              "    [theme=dark] .colab-df-convert {\n",
              "      background-color: #3B4455;\n",
              "      fill: #D2E3FC;\n",
              "    }\n",
              "\n",
              "    [theme=dark] .colab-df-convert:hover {\n",
              "      background-color: #434B5C;\n",
              "      box-shadow: 0px 1px 3px 1px rgba(0, 0, 0, 0.15);\n",
              "      filter: drop-shadow(0px 1px 2px rgba(0, 0, 0, 0.3));\n",
              "      fill: #FFFFFF;\n",
              "    }\n",
              "  </style>\n",
              "\n",
              "      <script>\n",
              "        const buttonEl =\n",
              "          document.querySelector('#df-621f92ff-f2f7-4c84-a609-01f2809f333e button.colab-df-convert');\n",
              "        buttonEl.style.display =\n",
              "          google.colab.kernel.accessAllowed ? 'block' : 'none';\n",
              "\n",
              "        async function convertToInteractive(key) {\n",
              "          const element = document.querySelector('#df-621f92ff-f2f7-4c84-a609-01f2809f333e');\n",
              "          const dataTable =\n",
              "            await google.colab.kernel.invokeFunction('convertToInteractive',\n",
              "                                                     [key], {});\n",
              "          if (!dataTable) return;\n",
              "\n",
              "          const docLinkHtml = 'Like what you see? Visit the ' +\n",
              "            '<a target=\"_blank\" href=https://colab.research.google.com/notebooks/data_table.ipynb>data table notebook</a>'\n",
              "            + ' to learn more about interactive tables.';\n",
              "          element.innerHTML = '';\n",
              "          dataTable['output_type'] = 'display_data';\n",
              "          await google.colab.output.renderOutput(dataTable, element);\n",
              "          const docLink = document.createElement('div');\n",
              "          docLink.innerHTML = docLinkHtml;\n",
              "          element.appendChild(docLink);\n",
              "        }\n",
              "      </script>\n",
              "    </div>\n",
              "  </div>\n",
              "  "
            ]
          },
          "metadata": {},
          "execution_count": 4
        }
      ]
    },
    {
      "cell_type": "markdown",
      "source": [
        "## The number of images in each class is highly skewed. To avoid class imbalance image augmentation is employeed. New images are generated and stored in the folder."
      ],
      "metadata": {
        "id": "vWpnydlCQhnF"
      }
    },
    {
      "cell_type": "code",
      "source": [
        "import seaborn as sns\n",
        "\n",
        "sns.countplot(df['label'])\n"
      ],
      "metadata": {
        "colab": {
          "base_uri": "https://localhost:8080/",
          "height": 297
        },
        "id": "n3DwZ7gNlQ1g",
        "outputId": "5379882c-9854-422b-fcbf-af060f2ee622"
      },
      "execution_count": null,
      "outputs": [
        {
          "output_type": "execute_result",
          "data": {
            "text/plain": [
              "<matplotlib.axes._subplots.AxesSubplot at 0x7f2e6c0024c0>"
            ]
          },
          "metadata": {},
          "execution_count": 37
        },
        {
          "output_type": "display_data",
          "data": {
            "text/plain": [
              "<Figure size 432x288 with 1 Axes>"
            ],
            "image/png": "[encoded data removed]"
          },
          "metadata": {
            "needs_background": "light"
          }
        }
      ]
    },
    {
      "cell_type": "code",
      "source": [
        "import numpy as np\n",
        "import pandas as pd\n",
        "from sklearn.model_selection import train_test_split\n",
        "import tensorflow as tf\n",
        "from sklearn.metrics import confusion_matrix, classification_report\n",
        "import os\n",
        "import cv2\n",
        "import pandas as pd\n",
        "import numpy as np\n",
        "\n",
        "#['akiec', 'bcc', 'bkl', 'df', 'mel', 'nv', 'vasc','benign']\n",
        "for folder_name in ['akiec', 'bcc', 'bkl', 'df', 'mel', 'nv', 'vasc']:\n",
        "    arr1=[]\n",
        "    for image in os.listdir(\"D:\\\\TE MINI\\\\TRAINING\\\\content\\\\all_images\\\\train_dir\\\\\"+folder_name):\n",
        "    #print(image)\n",
        "        img_array=cv2.imread('D:\\\\TE MINI\\\\TRAINING\\\\content\\\\all_images\\\\train_dir\\\\'+folder_name+'/'+image)\n",
        "        #print(img_array.shape)\n",
        "        new_arr=cv2.resize(img_array,(28,28))\n",
        "        #print(new_arr.shape)\n",
        "\n",
        "    #     new_arr=cv2.resize(img_array,(32,32))\n",
        "        arr1.append(new_arr)\n",
        "\n",
        "    print(folder_name)\n",
        "\n",
        "    arr=np.array(arr1)\n",
        "    print(arr.shape)\n",
        "    arr = arr.reshape(len(os.listdir('D:\\\\TE MINI\\\\TRAINING\\\\content\\\\all_images\\\\train_dir\\\\'+folder_name)),2352)\n",
        "\n",
        "    # convert array into dataframe\n",
        "    DF = pd.DataFrame(arr)\n",
        "\n",
        "    # save the dataframe as a csv file\n",
        "    DF.to_csv(\"D:/TE MINI/TRAINING/2000_AUG/check_aug28/\"+folder_name+\".csv\")\n",
        "    print(folder_name+' done')\n"
      ],
      "metadata": {
        "id": "Vh4c32dYQH1x"
      },
      "execution_count": null,
      "outputs": []
    },
    {
      "cell_type": "code",
      "source": [
        "sns.countplot(df['label'])\n"
      ],
      "metadata": {
        "colab": {
          "base_uri": "https://localhost:8080/",
          "height": 315
        },
        "id": "r9o-TiBJld1Y",
        "outputId": "3f9e6efc-a366-4c84-d018-c2004df7551f"
      },
      "execution_count": null,
      "outputs": [
        {
          "output_type": "stream",
          "name": "stdout",
          "text": [
            "42189\n",
            "42189\n"
          ]
        },
        {
          "output_type": "display_data",
          "data": {
            "text/plain": [
              "<Figure size 432x288 with 1 Axes>"
            ],
            "image/png": "[encoded data removed]"
          },
          "metadata": {
            "needs_background": "light"
          }
        }
      ]
    },
    {
      "cell_type": "code",
      "source": [
        "\n",
        "classes={\n",
        "    0:('akiec', 'actinic keratoses and intraepithelial carcinomae'),\n",
        "\n",
        "    1:('bcc' , 'basal cell carcinoma'),\n",
        "\n",
        "    2:('bkl', 'benign keratosis-like lesions'),\n",
        "\n",
        "    3:('df', 'dermatofibroma'),\n",
        "\n",
        "    4:('nv', ' melanocytic nevi'),\n",
        "\n",
        "    5:('vasc', ' pyogenic granulomas and hemorrhage'),\n",
        "\n",
        "    6:('mel', 'melanoma'),\n",
        "}"
      ],
      "metadata": {
        "id": "QhDN8aYrkvIw"
      },
      "execution_count": null,
      "outputs": []
    },
    {
      "cell_type": "code",
      "source": [
        "import torch\n",
        "\n",
        "device = torch.device(\"cuda:0\" if torch.cuda.is_available() else \"cpu\")\n",
        "\n",
        "print(device)"
      ],
      "metadata": {
        "colab": {
          "base_uri": "https://localhost:8080/"
        },
        "id": "fTRoVIHUlNPy",
        "outputId": "bd1b3d72-74ab-49bf-cb40-663ee64d1d64"
      },
      "execution_count": null,
      "outputs": [
        {
          "output_type": "stream",
          "name": "stdout",
          "text": [
            "cpu\n"
          ]
        }
      ]
    },
    {
      "cell_type": "code",
      "source": [
        "import matplotlib.pyplot as plt\n",
        "import random\n",
        "\n",
        "num=random.randint(0,8000)\n",
        "x_train=np.array(x_train, dtype=np.uint8).reshape(-1,28,28,3)\n",
        "\n",
        "plt.imshow(x_train[num].reshape(28,28,3))\n",
        "plt.title(\"Random image from training data\")\n",
        "plt.show()\n",
        "num=random.randint(0,8000)\n",
        "plt.imshow(x_train[num].reshape(28,28,3))\n",
        "plt.title(\"Random image from training data\")\n",
        "plt.show()\n",
        "\n",
        "num=random.randint(0,8000)\n",
        "plt.imshow(x_train[num].reshape(28,28,3))\n",
        "plt.title(\"Random image from training data\")\n",
        "plt.show()"
      ],
      "metadata": {
        "colab": {
          "base_uri": "https://localhost:8080/",
          "height": 809
        },
        "id": "moVRxxMPlgno",
        "outputId": "90cb962c-9c2e-4061-f763-50f4e9d0cfca"
      },
      "execution_count": null,
      "outputs": [
        {
          "output_type": "display_data",
          "data": {
            "text/plain": [
              "<Figure size 432x288 with 1 Axes>"
            ],
            "image/png": "[encoded data removed]"
          },
          "metadata": {
            "needs_background": "light"
          }
        },
        {
          "output_type": "display_data",
          "data": {
            "text/plain": [
              "<Figure size 432x288 with 1 Axes>"
            ],
            "image/png": "[encoded data removed]"
          },
          "metadata": {
            "needs_background": "light"
          }
        },
        {
          "output_type": "display_data",
          "data": {
            "text/plain": [
              "<Figure size 432x288 with 1 Axes>"
            ],
            "image/png": "[encoded data removed]"
          },
          "metadata": {
            "needs_background": "light"
          }
        }
      ]
    },
    {
      "cell_type": "code",
      "source": [
        "y_train.shape"
      ],
      "metadata": {
        "colab": {
          "base_uri": "https://localhost:8080/"
        },
        "id": "saUnIsieNN2d",
        "outputId": "57bcadc3-3925-4930-db9a-5fa5fc3e2344"
      },
      "execution_count": null,
      "outputs": [
        {
          "output_type": "execute_result",
          "data": {
            "text/plain": [
              "(42231,)"
            ]
          },
          "metadata": {},
          "execution_count": 18
        }
      ]
    },
    {
      "cell_type": "code",
      "source": [
        "y_test.shape"
      ],
      "metadata": {
        "colab": {
          "base_uri": "https://localhost:8080/"
        },
        "id": "3kGPKZbSN19g",
        "outputId": "f0875bc9-2a26-4d3f-b165-1e94945a3859"
      },
      "execution_count": null,
      "outputs": [
        {
          "output_type": "execute_result",
          "data": {
            "text/plain": [
              "(1002,)"
            ]
          },
          "metadata": {},
          "execution_count": 19
        }
      ]
    },
    {
      "cell_type": "code",
      "source": [
        "from tensorflow.keras.models import Sequential\n",
        "from tensorflow.keras.layers import Conv2D, Flatten, Dense, MaxPool2D\n",
        "import tensorflow as tf"
      ],
      "metadata": {
        "id": "yI123STbl9O_"
      },
      "execution_count": null,
      "outputs": []
    },
    {
      "cell_type": "code",
      "source": [
        "%time\n",
        "\n",
        "model = Sequential()\n",
        "\n",
        "model.add(Conv2D(16,\n",
        "                 kernel_size = (3,3),\n",
        "                 input_shape = (28, 28, 3),\n",
        "                 activation = 'relu',\n",
        "                 padding = 'same'))\n",
        "\n",
        "model.add(MaxPool2D(pool_size = (2,2)))\n",
        "model.add(tf.keras.layers.BatchNormalization())\n",
        "\n",
        "model.add(Conv2D(32,\n",
        "                 kernel_size = (3,3),\n",
        "                 activation = 'relu'))\n",
        "\n",
        "model.add(Conv2D(64,\n",
        "                 kernel_size = (3,3),\n",
        "                 activation = 'relu'))\n",
        "\n",
        "model.add(MaxPool2D(pool_size = (2,2)))\n",
        "\n",
        "model.add(tf.keras.layers.BatchNormalization())\n",
        "\n",
        "model.add(Conv2D(128,\n",
        "                 kernel_size = (3,3),\n",
        "                 activation = 'relu'))\n",
        "\n",
        "model.add(Conv2D(256,\n",
        "                 kernel_size = (3,3),\n",
        "                 activation = 'relu'))\n",
        "\n",
        "model.add(Flatten())\n",
        "model.add(tf.keras.layers.Dropout(0.2))\n",
        "model.add(Dense(256,activation='relu'))\n",
        "\n",
        "model.add(tf.keras.layers.BatchNormalization())\n",
        "model.add(tf.keras.layers.Dropout(0.2))\n",
        "model.add(Dense(128,activation='relu'))\n",
        "\n",
        "model.add(tf.keras.layers.BatchNormalization())\n",
        "model.add(Dense(64,activation='relu'))\n",
        "\n",
        "model.add(tf.keras.layers.BatchNormalization())\n",
        "model.add(tf.keras.layers.Dropout(0.2))\n",
        "model.add(Dense(32,activation='relu'))\n",
        "\n",
        "model.add(tf.keras.layers.BatchNormalization())\n",
        "model.add(Dense(7,activation='softmax'))\n",
        "\n",
        "model.summary()"
      ],
      "metadata": {
        "colab": {
          "base_uri": "https://localhost:8080/"
        },
        "id": "JRY3XbfCl_Jh",
        "outputId": "c9861fbe-814f-4c4c-b44e-d5a43e26e921"
      },
      "execution_count": null,
      "outputs": [
        {
          "output_type": "stream",
          "name": "stdout",
          "text": [
            "CPU times: user 3 µs, sys: 0 ns, total: 3 µs\n",
            "Wall time: 5.72 µs\n",
            "Model: \"sequential\"\n",
            "_________________________________________________________________\n",
            " Layer (type)                Output Shape              Param #   \n",
            "=================================================================\n",
            " conv2d (Conv2D)             (None, 28, 28, 16)        448       \n",
            "                                                                 \n",
            " max_pooling2d (MaxPooling2D  (None, 14, 14, 16)       0         \n",
            " )                                                               \n",
            "                                                                 \n",
            " batch_normalization (BatchN  (None, 14, 14, 16)       64        \n",
            " ormalization)                                                   \n",
            "                                                                 \n",
            " conv2d_1 (Conv2D)           (None, 12, 12, 32)        4640      \n",
            "                                                                 \n",
            " conv2d_2 (Conv2D)           (None, 10, 10, 64)        18496     \n",
            "                                                                 \n",
            " max_pooling2d_1 (MaxPooling  (None, 5, 5, 64)         0         \n",
            " 2D)                                                             \n",
            "                                                                 \n",
            " batch_normalization_1 (Batc  (None, 5, 5, 64)         256       \n",
            " hNormalization)                                                 \n",
            "                                                                 \n",
            " conv2d_3 (Conv2D)           (None, 3, 3, 128)         73856     \n",
            "                                                                 \n",
            " conv2d_4 (Conv2D)           (None, 1, 1, 256)         295168    \n",
            "                                                                 \n",
            " flatten (Flatten)           (None, 256)               0         \n",
            "                                                                 \n",
            " dropout (Dropout)           (None, 256)               0         \n",
            "                                                                 \n",
            " dense (Dense)               (None, 256)               65792     \n",
            "                                                                 \n",
            " batch_normalization_2 (Batc  (None, 256)              1024      \n",
            " hNormalization)                                                 \n",
            "                                                                 \n",
            " dropout_1 (Dropout)         (None, 256)               0         \n",
            "                                                                 \n",
            " dense_1 (Dense)             (None, 128)               32896     \n",
            "                                                                 \n",
            " batch_normalization_3 (Batc  (None, 128)              512       \n",
            " hNormalization)                                                 \n",
            "                                                                 \n",
            " dense_2 (Dense)             (None, 64)                8256      \n",
            "                                                                 \n",
            " batch_normalization_4 (Batc  (None, 64)               256       \n",
            " hNormalization)                                                 \n",
            "                                                                 \n",
            " dropout_2 (Dropout)         (None, 64)                0         \n",
            "                                                                 \n",
            " dense_3 (Dense)             (None, 32)                2080      \n",
            "                                                                 \n",
            " batch_normalization_5 (Batc  (None, 32)               128       \n",
            " hNormalization)                                                 \n",
            "                                                                 \n",
            " dense_4 (Dense)             (None, 7)                 231       \n",
            "                                                                 \n",
            "=================================================================\n",
            "Total params: 504,103\n",
            "Trainable params: 502,983\n",
            "Non-trainable params: 1,120\n",
            "_________________________________________________________________\n"
          ]
        }
      ]
    },
    {
      "cell_type": "code",
      "source": [
        "len(model.layers)"
      ],
      "metadata": {
        "colab": {
          "base_uri": "https://localhost:8080/"
        },
        "id": "FDKKemG3ULb0",
        "outputId": "c4ef2ca1-39f9-4109-d7a3-37b384a9968a"
      },
      "execution_count": null,
      "outputs": [
        {
          "output_type": "execute_result",
          "data": {
            "text/plain": [
              "22"
            ]
          },
          "metadata": {},
          "execution_count": 14
        }
      ]
    },
    {
      "cell_type": "code",
      "source": [
        "callback = tf.keras.callbacks.ModelCheckpoint(filepath='/content/drive/MyDrive/best_model4.h5',\n",
        "                                              monitor='val_acc',\n",
        "                                              mode='max',\n",
        "                                              verbose=1,\n",
        "                                              save_best_only=True)"
      ],
      "metadata": {
        "id": "94xIJXfDmKyf"
      },
      "execution_count": null,
      "outputs": []
    },
    {
      "cell_type": "code",
      "source": [
        "%time\n",
        "\n",
        "optimizer=tf.keras.optimizers.Adam(lr=0.00001)\n",
        "\n",
        "model.compile(loss = 'sparse_categorical_crossentropy',\n",
        "              optimizer =optimizer,\n",
        "              metrics = ['accuracy'])"
      ],
      "metadata": {
        "colab": {
          "base_uri": "https://localhost:8080/"
        },
        "id": "fZzcjaikmQ-m",
        "outputId": "7d259596-6fde-4c59-a756-cbef256bf234"
      },
      "execution_count": null,
      "outputs": [
        {
          "output_type": "stream",
          "name": "stdout",
          "text": [
            "CPU times: user 4 µs, sys: 0 ns, total: 4 µs\n",
            "Wall time: 8.11 µs\n"
          ]
        }
      ]
    },
    {
      "cell_type": "code",
      "source": [
        "from datetime import datetime\n",
        "\n",
        "start_time = datetime.now()\n",
        "\n",
        "history = model.fit(x_train,\n",
        "                    y_train,\n",
        "                    validation_split=0.1,\n",
        "                    batch_size = 64,\n",
        "                    epochs = 10,\n",
        "                    shuffle=True,\n",
        "                    callbacks=[callback])\n",
        "\n",
        "end_time = datetime.now()\n",
        "\n",
        "print('Duration: {}'.format(end_time - start_time))"
      ],
      "metadata": {
        "colab": {
          "base_uri": "https://localhost:8080/"
        },
        "id": "Fvo1XlLHmTRP",
        "outputId": "7554edc7-924a-469c-b704-76ac4e4ef492"
      },
      "execution_count": null,
      "outputs": [
        {
          "output_type": "stream",
          "name": "stdout",
          "text": [
            "Epoch 1/10\n",
            "402/402 [==============================] - ETA: 0s - loss: 0.0040 - accuracy: 0.9991"
          ]
        },
        {
          "output_type": "stream",
          "name": "stderr",
          "text": [
            "WARNING:tensorflow:Can save best model only with val_acc available, skipping.\n"
          ]
        },
        {
          "output_type": "stream",
          "name": "stdout",
          "text": [
            "\b\b\b\b\b\b\b\b\b\b\b\b\b\b\b\b\b\b\b\b\b\b\b\b\b\b\b\b\b\b\b\b\b\b\b\b\b\b\b\b\b\b\b\b\b\b\b\b\b\b\b\b\b\b\b\b\b\b\b\b\b\b\b\b\b\b\b\b\b\b\b\b\b\b\b\b\b\b\b\b\b\b\b\b\r402/402 [==============================] - 49s 118ms/step - loss: 0.0040 - accuracy: 0.9991 - val_loss: 1.5346 - val_accuracy: 0.7530\n",
            "Epoch 2/10\n",
            "402/402 [==============================] - ETA: 0s - loss: 0.0038 - accuracy: 0.9991"
          ]
        },
        {
          "output_type": "stream",
          "name": "stderr",
          "text": [
            "WARNING:tensorflow:Can save best model only with val_acc available, skipping.\n"
          ]
        },
        {
          "output_type": "stream",
          "name": "stdout",
          "text": [
            "\b\b\b\b\b\b\b\b\b\b\b\b\b\b\b\b\b\b\b\b\b\b\b\b\b\b\b\b\b\b\b\b\b\b\b\b\b\b\b\b\b\b\b\b\b\b\b\b\b\b\b\b\b\b\b\b\b\b\b\b\b\b\b\b\b\b\b\b\b\b\b\b\b\b\b\b\b\b\b\b\b\b\b\b\r402/402 [==============================] - 45s 112ms/step - loss: 0.0038 - accuracy: 0.9991 - val_loss: 1.5341 - val_accuracy: 0.7516\n",
            "Epoch 3/10\n",
            "402/402 [==============================] - ETA: 0s - loss: 0.0035 - accuracy: 0.9992"
          ]
        },
        {
          "output_type": "stream",
          "name": "stderr",
          "text": [
            "WARNING:tensorflow:Can save best model only with val_acc available, skipping.\n"
          ]
        },
        {
          "output_type": "stream",
          "name": "stdout",
          "text": [
            "\b\b\b\b\b\b\b\b\b\b\b\b\b\b\b\b\b\b\b\b\b\b\b\b\b\b\b\b\b\b\b\b\b\b\b\b\b\b\b\b\b\b\b\b\b\b\b\b\b\b\b\b\b\b\b\b\b\b\b\b\b\b\b\b\b\b\b\b\b\b\b\b\b\b\b\b\b\b\b\b\b\b\b\b\r402/402 [==============================] - 45s 112ms/step - loss: 0.0035 - accuracy: 0.9992 - val_loss: 1.5375 - val_accuracy: 0.7540\n",
            "Epoch 4/10\n",
            "402/402 [==============================] - ETA: 0s - loss: 0.0039 - accuracy: 0.9991"
          ]
        },
        {
          "output_type": "stream",
          "name": "stderr",
          "text": [
            "WARNING:tensorflow:Can save best model only with val_acc available, skipping.\n"
          ]
        },
        {
          "output_type": "stream",
          "name": "stdout",
          "text": [
            "\b\b\b\b\b\b\b\b\b\b\b\b\b\b\b\b\b\b\b\b\b\b\b\b\b\b\b\b\b\b\b\b\b\b\b\b\b\b\b\b\b\b\b\b\b\b\b\b\b\b\b\b\b\b\b\b\b\b\b\b\b\b\b\b\b\b\b\b\b\b\b\b\b\b\b\b\b\b\b\b\b\b\b\b\r402/402 [==============================] - 47s 117ms/step - loss: 0.0039 - accuracy: 0.9991 - val_loss: 1.5397 - val_accuracy: 0.7530\n",
            "Epoch 5/10\n",
            "402/402 [==============================] - ETA: 0s - loss: 0.0034 - accuracy: 0.9990"
          ]
        },
        {
          "output_type": "stream",
          "name": "stderr",
          "text": [
            "WARNING:tensorflow:Can save best model only with val_acc available, skipping.\n"
          ]
        },
        {
          "output_type": "stream",
          "name": "stdout",
          "text": [
            "\b\b\b\b\b\b\b\b\b\b\b\b\b\b\b\b\b\b\b\b\b\b\b\b\b\b\b\b\b\b\b\b\b\b\b\b\b\b\b\b\b\b\b\b\b\b\b\b\b\b\b\b\b\b\b\b\b\b\b\b\b\b\b\b\b\b\b\b\b\b\b\b\b\b\b\b\b\b\b\b\b\b\b\b\r402/402 [==============================] - 45s 113ms/step - loss: 0.0034 - accuracy: 0.9990 - val_loss: 1.5432 - val_accuracy: 0.7526\n",
            "Epoch 6/10\n",
            "402/402 [==============================] - ETA: 0s - loss: 0.0032 - accuracy: 0.9993"
          ]
        },
        {
          "output_type": "stream",
          "name": "stderr",
          "text": [
            "WARNING:tensorflow:Can save best model only with val_acc available, skipping.\n"
          ]
        },
        {
          "output_type": "stream",
          "name": "stdout",
          "text": [
            "\b\b\b\b\b\b\b\b\b\b\b\b\b\b\b\b\b\b\b\b\b\b\b\b\b\b\b\b\b\b\b\b\b\b\b\b\b\b\b\b\b\b\b\b\b\b\b\b\b\b\b\b\b\b\b\b\b\b\b\b\b\b\b\b\b\b\b\b\b\b\b\b\b\b\b\b\b\b\b\b\b\b\b\b\r402/402 [==============================] - 45s 113ms/step - loss: 0.0032 - accuracy: 0.9993 - val_loss: 1.5456 - val_accuracy: 0.7554\n",
            "Epoch 7/10\n",
            "402/402 [==============================] - ETA: 0s - loss: 0.0028 - accuracy: 0.9993"
          ]
        },
        {
          "output_type": "stream",
          "name": "stderr",
          "text": [
            "WARNING:tensorflow:Can save best model only with val_acc available, skipping.\n"
          ]
        },
        {
          "output_type": "stream",
          "name": "stdout",
          "text": [
            "\b\b\b\b\b\b\b\b\b\b\b\b\b\b\b\b\b\b\b\b\b\b\b\b\b\b\b\b\b\b\b\b\b\b\b\b\b\b\b\b\b\b\b\b\b\b\b\b\b\b\b\b\b\b\b\b\b\b\b\b\b\b\b\b\b\b\b\b\b\b\b\b\b\b\b\b\b\b\b\b\b\b\b\b\r402/402 [==============================] - 46s 114ms/step - loss: 0.0028 - accuracy: 0.9993 - val_loss: 1.5467 - val_accuracy: 0.7554\n",
            "Epoch 8/10\n",
            "402/402 [==============================] - ETA: 0s - loss: 0.0030 - accuracy: 0.9992"
          ]
        },
        {
          "output_type": "stream",
          "name": "stderr",
          "text": [
            "WARNING:tensorflow:Can save best model only with val_acc available, skipping.\n"
          ]
        },
        {
          "output_type": "stream",
          "name": "stdout",
          "text": [
            "\b\b\b\b\b\b\b\b\b\b\b\b\b\b\b\b\b\b\b\b\b\b\b\b\b\b\b\b\b\b\b\b\b\b\b\b\b\b\b\b\b\b\b\b\b\b\b\b\b\b\b\b\b\b\b\b\b\b\b\b\b\b\b\b\b\b\b\b\b\b\b\b\b\b\b\b\b\b\b\b\b\b\b\b\r402/402 [==============================] - 47s 118ms/step - loss: 0.0030 - accuracy: 0.9992 - val_loss: 1.5423 - val_accuracy: 0.7544\n",
            "Epoch 9/10\n",
            "402/402 [==============================] - ETA: 0s - loss: 0.0032 - accuracy: 0.9992"
          ]
        },
        {
          "output_type": "stream",
          "name": "stderr",
          "text": [
            "WARNING:tensorflow:Can save best model only with val_acc available, skipping.\n"
          ]
        },
        {
          "output_type": "stream",
          "name": "stdout",
          "text": [
            "\b\b\b\b\b\b\b\b\b\b\b\b\b\b\b\b\b\b\b\b\b\b\b\b\b\b\b\b\b\b\b\b\b\b\b\b\b\b\b\b\b\b\b\b\b\b\b\b\b\b\b\b\b\b\b\b\b\b\b\b\b\b\b\b\b\b\b\b\b\b\b\b\b\b\b\b\b\b\b\b\b\b\b\b\r402/402 [==============================] - 45s 113ms/step - loss: 0.0032 - accuracy: 0.9992 - val_loss: 1.5498 - val_accuracy: 0.7575\n",
            "Epoch 10/10\n",
            "402/402 [==============================] - ETA: 0s - loss: 0.0031 - accuracy: 0.9992"
          ]
        },
        {
          "output_type": "stream",
          "name": "stderr",
          "text": [
            "WARNING:tensorflow:Can save best model only with val_acc available, skipping.\n"
          ]
        },
        {
          "output_type": "stream",
          "name": "stdout",
          "text": [
            "\b\b\b\b\b\b\b\b\b\b\b\b\b\b\b\b\b\b\b\b\b\b\b\b\b\b\b\b\b\b\b\b\b\b\b\b\b\b\b\b\b\b\b\b\b\b\b\b\b\b\b\b\b\b\b\b\b\b\b\b\b\b\b\b\b\b\b\b\b\b\b\b\b\b\b\b\b\b\b\b\b\b\b\b\r402/402 [==============================] - 45s 113ms/step - loss: 0.0031 - accuracy: 0.9992 - val_loss: 1.5427 - val_accuracy: 0.7558\n",
            "Duration: 0:08:24.234641\n"
          ]
        }
      ]
    },
    {
      "cell_type": "code",
      "source": [
        "model.save('/content/drive/MyDrive/final_model_to_use.h5')\n",
        "\n"
      ],
      "metadata": {
        "id": "mmgOuG5Q9g7a"
      },
      "execution_count": null,
      "outputs": []
    },
    {
      "cell_type": "code",
      "source": [
        "\n",
        "from keras.models import load_model\n",
        "m = load_model('/content/drive/MyDrive/final_model.h5')"
      ],
      "metadata": {
        "id": "Ch9Fkx4YgW-d"
      },
      "execution_count": null,
      "outputs": []
    },
    {
      "cell_type": "code",
      "source": [
        "\n",
        "x_test = np.array(x_test, dtype=np.uint8).reshape(-1,28,28,3)\n",
        "#y_test = np.array(y_test, dtype=np.uint8).reshape(-1,28,28,3)"
      ],
      "metadata": {
        "id": "692cA-OMCYPx"
      },
      "execution_count": null,
      "outputs": []
    },
    {
      "cell_type": "code",
      "source": [
        "from sklearn.metrics import accuracy_score\n",
        "from sklearn.metrics import precision_score\n",
        "from sklearn.metrics import recall_score\n",
        "from sklearn.metrics import roc_auc_score\n",
        "from sklearn.metrics import confusion_matrix\n",
        "from sklearn.metrics import classification_report\n",
        "from sklearn.metrics import precision_recall_curve\n",
        "\n",
        "targetnames = ['akiec', 'bcc', 'bkl', 'df', 'mel', 'nv', 'vasc']\n",
        "Pred = model.predict(x_test, batch_size=64)\n",
        "Pred_Label = np.argmax(Pred, axis=1)\n",
        "y_prob = Pred\n",
        "ytrain = np.argmax(y_train, axis=-1)\n",
        "test_acc = accuracy_score(y_test, Pred_Label)\n",
        "ConfusionM = confusion_matrix(list(y_test), Pred_Label, labels=[0, 1, 2, 3, 4,5 ,6])\n",
        "class_report = classification_report(list(y_test), Pred_Label, labels=[0, 1, 2, 3, 4, 5, 6], target_names=targetnames)"
      ],
      "metadata": {
        "colab": {
          "base_uri": "https://localhost:8080/"
        },
        "id": "iieHgwPvBhWc",
        "outputId": "7493debb-6ad0-4b44-bab4-9022c27345b6"
      },
      "execution_count": null,
      "outputs": [
        {
          "output_type": "stream",
          "name": "stdout",
          "text": [
            "50/50 [==============================] - 2s 41ms/step\n"
          ]
        }
      ]
    },
    {
      "cell_type": "code",
      "source": [
        "import matplotlib.pyplot as plt\n",
        "from sklearn.preprocessing import LabelBinarizer\n",
        "from sklearn.metrics import roc_curve, auc, roc_auc_score\n",
        "\n",
        "\n",
        "target= ['akiec', 'bcc', 'bkl', 'df', 'mel', 'nv', 'vasc']\n",
        "\n",
        "# set plot figure size\n",
        "fig, c_ax = plt.subplots(1,1, figsize = (12, 8))\n",
        "\n",
        "# function for scoring roc auc score for multi-class\n",
        "def multiclass_roc_auc_score(y_test, y_pred, average=\"macro\"):\n",
        "    print(y_test.shape)\n",
        "    lb = LabelBinarizer()\n",
        "    lb.fit(y_test)\n",
        "    y_test = lb.transform(y_test)\n",
        "    y_pred = lb.transform(y_pred)\n",
        "\n",
        "    for (idx, c_label) in enumerate(target):\n",
        "        fpr, tpr, thresholds = roc_curve(y_test[:,idx].astype(int), y_pred[:,idx])\n",
        "        c_ax.plot(fpr, tpr, label = '%s (AUC:%0.2f)'  % (c_label, auc(fpr, tpr)))\n",
        "    c_ax.plot(fpr, fpr, 'b-', label = 'Random Guessing')\n",
        "    return roc_auc_score(y_test, y_pred, average=average)\n",
        "\n",
        "\n",
        "\n",
        "print('ROC AUC score:', multiclass_roc_auc_score(y_test, Pred_Label))\n",
        "\n",
        "c_ax.legend()\n",
        "c_ax.set_xlabel('False Positive Rate')\n",
        "c_ax.set_ylabel('True Positive Rate')\n",
        "plt.show()\n"
      ],
      "metadata": {
        "colab": {
          "base_uri": "https://localhost:8080/",
          "height": 533
        },
        "id": "Q-F-5MjSJzHI",
        "outputId": "f5e21251-531d-4295-ac6a-a1d9fcd9d677"
      },
      "execution_count": null,
      "outputs": [
        {
          "output_type": "stream",
          "name": "stdout",
          "text": [
            "(3176,)\n",
            "ROC AUC score: 0.8652770905495243\n"
          ]
        },
        {
          "output_type": "display_data",
          "data": {
            "text/plain": [
              "<Figure size 864x576 with 1 Axes>"
            ],
            "image/png": "[encoded data removed]"
          },
          "metadata": {
            "needs_background": "light"
          }
        }
      ]
    },
    {
      "cell_type": "code",
      "source": [
        "import seaborn as sns\n",
        "cm = ConfusionM\n",
        "targetnames = ['akiec', 'bcc', 'bkl', 'df', 'mel', 'nv', 'vasc']\n",
        "class_names = targetnames\n",
        "# Plot confusion matrix\n",
        "fig = plt.figure(figsize=(8, 8))\n",
        "ax= plt.subplot()\n",
        "sns.heatmap(cm,cmap= \"Reds\", linecolor = 'black' , linewidth = 1 , annot = True, fmt=''); #annot=True to annotate cells\n",
        "# labels, title and ticks\n",
        "ax.set_xlabel('Predicted', fontsize=20)\n",
        "ax.xaxis.set_label_position('bottom')\n",
        "plt.xticks(rotation=90)\n",
        "ax.xaxis.set_ticklabels(class_names, fontsize = 10)\n",
        "ax.xaxis.tick_bottom()\n",
        "\n",
        "ax.set_ylabel('True', fontsize=20)\n",
        "ax.yaxis.set_ticklabels(class_names, fontsize = 10)\n",
        "plt.yticks(rotation=0)\n",
        "\n",
        "plt.title('Refined Confusion Matrix', fontsize=20)\n",
        "\n",
        "plt.savefig('ConMat24.png')\n",
        "plt.show()"
      ],
      "metadata": {
        "colab": {
          "base_uri": "https://localhost:8080/",
          "height": 543
        },
        "id": "mZHmVM8NOJ1Y",
        "outputId": "98b4b5f7-4faf-4da0-8172-64842691bae5"
      },
      "execution_count": null,
      "outputs": [
        {
          "output_type": "display_data",
          "data": {
            "text/plain": [
              "<Figure size 576x576 with 2 Axes>"
            ],
            "image/png": "[encoded data removed]"
          },
          "metadata": {
            "needs_background": "light"
          }
        }
      ]
    },
    {
      "cell_type": "code",
      "source": [
        "print(class_report)"
      ],
      "metadata": {
        "colab": {
          "base_uri": "https://localhost:8080/"
        },
        "id": "ZUAt1iE3ONao",
        "outputId": "946d6561-d4e0-4100-ecd8-cb01173b12fd"
      },
      "execution_count": null,
      "outputs": [
        {
          "output_type": "stream",
          "name": "stdout",
          "text": [
            "              precision    recall  f1-score   support\n",
            "\n",
            "       akiec       0.67      0.72      0.69       463\n",
            "         bcc       0.71      0.71      0.71       461\n",
            "         bkl       0.63      0.56      0.59       481\n",
            "          df       0.91      0.90      0.91       460\n",
            "         mel       0.85      0.88      0.87       442\n",
            "          nv       0.96      0.99      0.98       446\n",
            "        vasc       0.63      0.62      0.63       423\n",
            "\n",
            "    accuracy                           0.77      3176\n",
            "   macro avg       0.77      0.77      0.77      3176\n",
            "weighted avg       0.77      0.77      0.77      3176\n",
            "\n"
          ]
        }
      ]
    },
    {
      "cell_type": "code",
      "source": [
        "print(\"Precision: \"+ str(precision_score(y_test, Pred_Label, average='weighted')))\n",
        "print(\"Recall: \"+ str(recall_score(y_test, Pred_Label, average='weighted')))\n",
        "print(\"Accuracy: \" + str(accuracy_score(y_test, Pred_Label)))\n",
        "print(\"weighted Roc score: \" + str(roc_auc_score(y_test, y_prob,multi_class='ovr',average='weighted')))"
      ],
      "metadata": {
        "colab": {
          "base_uri": "https://localhost:8080/"
        },
        "id": "FH10ZzNlPExq",
        "outputId": "168cd064-23e1-4515-9dc1-027b65dc874d"
      },
      "execution_count": null,
      "outputs": [
        {
          "output_type": "stream",
          "name": "stdout",
          "text": [
            "Precision: 0.7657141002667291\n",
            "Recall: 0.7679471032745592\n",
            "Accuracy: 0.7679471032745592\n",
            "weighted Roc score: 0.948173362733429\n"
          ]
        }
      ]
    },
    {
      "cell_type": "code",
      "source": [
        "print(\"Precision: \"+ str(precision_score(y_test, Pred_Label, average='weighted')))\n",
        "print(\"Recall: \"+ str(recall_score(y_test, Pred_Label, average='weighted')))\n",
        "print(\"Accuracy: \" + str(accuracy_score(y_test, Pred_Label)))\n",
        "print(\"weighted Roc score: \" + str(roc_auc_score(y_test, y_prob,multi_class='ovr',average='macro')))"
      ],
      "metadata": {
        "id": "_xArIGNgYrkx",
        "colab": {
          "base_uri": "https://localhost:8080/"
        },
        "outputId": "95ef1151-b8bd-43be-c95b-a57edf36fc51"
      },
      "execution_count": null,
      "outputs": [
        {
          "output_type": "stream",
          "name": "stdout",
          "text": [
            "Precision: 0.7657141002667291\n",
            "Recall: 0.7679471032745592\n",
            "Accuracy: 0.7679471032745592\n",
            "weighted Roc score: 0.948537216456349\n"
          ]
        }
      ]
    }
  ]
}